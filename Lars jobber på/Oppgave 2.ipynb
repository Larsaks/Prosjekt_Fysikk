{
 "cells": [
  {
   "cell_type": "code",
   "execution_count": 8,
   "metadata": {},
   "outputs": [],
   "source": [
    "import numpy as np\n",
    "import matplotlib.pyplot as plt\n",
    "from scipy.integrate import solve_bvp"
   ]
  },
  {
   "cell_type": "markdown",
   "metadata": {},
   "source": [
    "### Task 2 a)"
   ]
  },
  {
   "cell_type": "code",
   "execution_count": 9,
   "metadata": {},
   "outputs": [],
   "source": [
    "def matrix_to_vector(M):\n",
    "    return np.array([\n",
    "        np.real(M[0, 0]), np.real(M[0, 1]), np.real(M[1, 0]), np.real(M[1, 1]),\n",
    "        np.imag(M[0, 0]), np.imag(M[0, 1]), np.imag(M[1, 0]), np.imag(M[1, 1])\n",
    "    ])\n",
    "\n",
    "def vector_to_matrix(m):\n",
    "    return [[m[0] + 1j*m[4], m[1] + 1j*m[5]],\n",
    "            [m[2] + 1j*m[6], m[3] + 1j*m[7]]]"
   ]
  },
  {
   "cell_type": "code",
   "execution_count": 10,
   "metadata": {},
   "outputs": [],
   "source": [
    "###Test "
   ]
  },
  {
   "cell_type": "markdown",
   "metadata": {},
   "source": [
    "### Task 2 b) "
   ]
  },
  {
   "cell_type": "code",
   "execution_count": 11,
   "metadata": {},
   "outputs": [],
   "source": [
    "\n",
    "def vector8_to_32(m1, m2, m3, m4):\n",
    "    return np.concatenate([m1, m2, m3, m4])\n",
    "\n",
    "def vector32_to_8(m):\n",
    "    m1 = m[:8]\n",
    "    m2 = m[8:16]\n",
    "    m3 = m[16:24]\n",
    "    m4 = m[24:32]\n",
    "    return m1, m2, m3, m4"
   ]
  },
  {
   "cell_type": "code",
   "execution_count": 12,
   "metadata": {},
   "outputs": [],
   "source": [
    "###Test"
   ]
  },
  {
   "cell_type": "markdown",
   "metadata": {},
   "source": [
    "### Task 2 c) "
   ]
  },
  {
   "cell_type": "code",
   "execution_count": 13,
   "metadata": {},
   "outputs": [],
   "source": [
    "def matrices_to_vector(gamma, gamma_tilde, omega, omega_tilde):\n",
    "    gamma_vec = matrix_to_vector(gamma)\n",
    "    gamma_tilde_vec = matrix_to_vector(gamma_tilde)\n",
    "    omega_vec =  matrix_to_vector(omega)\n",
    "    omega_tilde_vec = matrix_to_vector(omega_tilde)\n",
    "    return vector8_to_32(gamma_vec,gamma_tilde_vec,omega_vec,omega_tilde_vec)\n",
    "\n",
    "def vector_to_matrices(v):\n",
    "    gamma_vec, gamma_tilde_vec, omega_vec, omega_tilde_vec = vector32_to_8(v)\n",
    "    gamma = vector_to_matrix(gamma_vec)\n",
    "    gamma_tilde = vector_to_matrix(gamma_tilde_vec)\n",
    "    omega = vector_to_matrix(omega_vec)\n",
    "    omega_tilde = vector_to_matrix(omega_vec)\n",
    "    return gamma, gamma_tilde, omega, omega_tilde"
   ]
  },
  {
   "cell_type": "markdown",
   "metadata": {},
   "source": [
    "### Task 2 d) "
   ]
  },
  {
   "cell_type": "code",
   "execution_count": 18,
   "metadata": {},
   "outputs": [],
   "source": [
    "def calculate_derivative(v,epsilon):\n",
    "    delta = 0.01\n",
    "    I = np.eye(2)\n",
    "    \n",
    "    gamma, gamma_tilde, omega, omega_tilde = vector_to_matrices(v)\n",
    "    \n",
    "    N = (I - gamma @ gamma_tilde)**-1\n",
    "    N_tilde = (I - gamma_tilde @ gamma)**-1\n",
    "\n",
    "    dgamma_dx = omega\n",
    "    dgamma_tilde_dx = omega_tilde\n",
    "    domega_dx = -2j*(epsilon * delta*1j)*gamma - (2*omega @ N_tilde @ gamma_tilde @ omega)\n",
    "    domega_tilde_dx = -2j*(epsilon + delta*1j)*gamma_tilde - (2*omega_tilde @ N @ gamma @ omega_tilde)\n",
    "    \n",
    "    dgamma_dx_vec = matrix_to_vector(dgamma_dx) \n",
    "    dgamma_tilde_dx_vec = matrix_to_vector(dgamma_tilde_dx)\n",
    "    domega_dx_vec = matrix_to_vector(domega_dx)\n",
    "    domega_tilde_dx_vec = matrix_to_vector(domega_tilde_dx)\n",
    "\n",
    "    return np.concatenate(dgamma_dx_vec , dgamma_tilde_dx_vec, domega_dx_vec, domega_tilde_dx_vec)"
   ]
  },
  {
   "cell_type": "markdown",
   "metadata": {},
   "source": [
    "### Task 2 e) "
   ]
  },
  {
   "cell_type": "code",
   "execution_count": 19,
   "metadata": {},
   "outputs": [],
   "source": [
    "def fun(x, vec, epsilon):\n",
    "    m = len(x)\n",
    "    dv = np.zeros_like(vec)\n",
    "    for i in range(m):\n",
    "        v = vec[:,i]\n",
    "        dv[i] = calculate_derivative(v,epsilon)\n",
    "    return dv"
   ]
  },
  {
   "cell_type": "markdown",
   "metadata": {},
   "source": [
    "### Task 2 f)"
   ]
  },
  {
   "cell_type": "code",
   "execution_count": null,
   "metadata": {},
   "outputs": [],
   "source": [
    "def bc(v_left,v_right):\n",
    "    "
   ]
  }
 ],
 "metadata": {
  "kernelspec": {
   "display_name": "Python 3",
   "language": "python",
   "name": "python3"
  },
  "language_info": {
   "codemirror_mode": {
    "name": "ipython",
    "version": 3
   },
   "file_extension": ".py",
   "mimetype": "text/x-python",
   "name": "python",
   "nbconvert_exporter": "python",
   "pygments_lexer": "ipython3",
   "version": "3.11.5"
  }
 },
 "nbformat": 4,
 "nbformat_minor": 2
}
